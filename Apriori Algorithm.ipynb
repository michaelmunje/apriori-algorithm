{
 "cells": [
  {
   "cell_type": "code",
   "execution_count": 9,
   "metadata": {},
   "outputs": [
    {
     "name": "stdout",
     "output_type": "stream",
     "text": [
      "3\n"
     ]
    }
   ],
   "source": [
    "SUPPORT_THRESHOLD = 0.5\n",
    "A = 1\n",
    "B = 2\n",
    "C = 3\n",
    "D = 4\n",
    "E = 5\n",
    "\n",
    "itemsets = [\n",
    "    (A, B, C, E),\n",
    "    (A, C, D, E),\n",
    "    (B, C, E),\n",
    "    (A, C, D, E),\n",
    "    (C, D, E),\n",
    "    (A, D, E)\n",
    "]\n",
    "\n",
    "def get_one_item_subsets():\n",
    "    one_items = list()\n",
    "    for itemset in itemsets:\n",
    "        for item in itemset:\n",
    "            if item not in one_items:\n",
    "                one_items.append(item)\n",
    "    return one_items\n",
    "\n",
    "def contains_itemset(input_itemset, itemset):\n",
    "        for item in input_itemset:\n",
    "            if item not in itemset:\n",
    "                return False\n",
    "        return True\n",
    "\n",
    "def check_frequent(input_itemset):\n",
    "    freq_count = 0\n",
    "    for itemset in itemsets:\n",
    "        if (contains_itemset(input_itemset, itemset)):\n",
    "            freq_count += 1\n",
    "    return freq_count\n",
    "\n",
    "single_items = get_one_item_subsets()\n",
    "\n",
    "def check_closed(input_itemset):\n",
    "    for item in itemset():\n",
    "        freq = check_frequent(item)\n",
    "        \n",
    "        check_frequen\n",
    "    \n",
    "    \n",
    "\n",
    "freq_c = check_frequent((A, D))\n",
    "print(freq_c)\n",
    "    \n",
    "    "
   ]
  }
 ],
 "metadata": {
  "kernelspec": {
   "display_name": "Python 3",
   "language": "python",
   "name": "python3"
  },
  "language_info": {
   "codemirror_mode": {
    "name": "ipython",
    "version": 3
   },
   "file_extension": ".py",
   "mimetype": "text/x-python",
   "name": "python",
   "nbconvert_exporter": "python",
   "pygments_lexer": "ipython3",
   "version": "3.7.2"
  }
 },
 "nbformat": 4,
 "nbformat_minor": 2
}
